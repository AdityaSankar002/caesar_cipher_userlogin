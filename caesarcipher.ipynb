{
  "nbformat": 4,
  "nbformat_minor": 0,
  "metadata": {
    "colab": {
      "provenance": [],
      "authorship_tag": "ABX9TyMPar3zYu9mYl1Vxo+REYrv",
      "include_colab_link": true
    },
    "kernelspec": {
      "name": "python3",
      "display_name": "Python 3"
    },
    "language_info": {
      "name": "python"
    }
  },
  "cells": [
    {
      "cell_type": "markdown",
      "metadata": {
        "id": "view-in-github",
        "colab_type": "text"
      },
      "source": [
        "<a href=\"https://colab.research.google.com/github/AdityaSankar002/caesar_cipher_userlogin/blob/main/caesarcipher.ipynb\" target=\"_parent\"><img src=\"https://colab.research.google.com/assets/colab-badge.svg\" alt=\"Open In Colab\"/></a>"
      ]
    },
    {
      "cell_type": "code",
      "execution_count": 4,
      "metadata": {
        "colab": {
          "base_uri": "https://localhost:8080/"
        },
        "id": "4WCBLOMLETMc",
        "outputId": "097a2645-0efb-4f27-d8a0-b2a64191f7e2"
      },
      "outputs": [
        {
          "output_type": "stream",
          "name": "stdout",
          "text": [
            "Welcome to the Caesar Cipher encryption decryprion  Program\n",
            "Enter user ID: user1\n",
            "Enter password: password1\n",
            "\n",
            "Menu:\n",
            "1. Encrypt a message\n",
            "2. Decrypt a message\n",
            "3. Exit\n",
            "Choose an option (1/2/3): 1\n",
            "Enter the message to encrypt: hello\n",
            "Enter the shift value: 12\n",
            "Encrypted message: tqxxa\n",
            "\n",
            "Menu:\n",
            "1. Encrypt a message\n",
            "2. Decrypt a message\n",
            "3. Exit\n",
            "Choose an option (1/2/3): 3\n",
            "Exiting the program.\n"
          ]
        }
      ],
      "source": [
        "# Caesar Cipher encryption and decryption program with user login feature\n",
        "# This encryption and decryption will only take place upon a authorised user is\n",
        "# logged in to the system\n",
        "def caesar_encrypt(text, shift):\n",
        "    encrypted_text = \"\"\n",
        "    for char in text:\n",
        "        if char.isalpha():\n",
        "            shift_amount = shift % 26\n",
        "            new_char = ord(char) + shift_amount\n",
        "            if char.islower():\n",
        "                if new_char > ord('z'):\n",
        "                    new_char -= 26\n",
        "                encrypted_text += chr(new_char)\n",
        "            elif char.isupper():\n",
        "                if new_char > ord('Z'):\n",
        "                    new_char -= 26\n",
        "                encrypted_text += chr(new_char)\n",
        "        else:\n",
        "            encrypted_text += char\n",
        "    return encrypted_text\n",
        "\n",
        "def caesar_decrypt(text, shift):\n",
        "    return caesar_encrypt(text, -shift)\n",
        "\n",
        "# Simple user authentication\n",
        "users = {\n",
        "    \"user1\": \"password1\",\n",
        "    \"user2\": \"password2\",\n",
        "    # Add more users as needed\n",
        "}\n",
        "\n",
        "def authenticate(user_id, password):\n",
        "    return users.get(user_id) == password\n",
        "\n",
        "# Main program\n",
        "def main():\n",
        "    print(\"Welcome to the Caesar Cipher encryption decryprion  Program\")\n",
        "\n",
        "    user_id = input(\"Enter user ID: \")\n",
        "    password = input(\"Enter password: \")\n",
        "\n",
        "    if not authenticate(user_id, password):\n",
        "        print(\"Authentication failed. Exiting...\")\n",
        "        return\n",
        "\n",
        "    while True:\n",
        "        print(\"\\nMenu:\")\n",
        "        print(\"1. Encrypt a message\")\n",
        "        print(\"2. Decrypt a message\")\n",
        "        print(\"3. Exit\")\n",
        "\n",
        "        choice = input(\"Choose an option (1/2/3): \")\n",
        "\n",
        "        if choice == '1':\n",
        "            message = input(\"Enter the message to encrypt: \")\n",
        "            shift = int(input(\"Enter the shift value: \"))\n",
        "            encrypted_message = caesar_encrypt(message, shift)\n",
        "            print(\"Encrypted message:\", encrypted_message)\n",
        "        elif choice == '2':\n",
        "            message = input(\"Enter the message to decrypt: \")\n",
        "            shift = int(input(\"Enter the shift value: \"))\n",
        "            decrypted_message = caesar_decrypt(message, shift)\n",
        "            print(\"Decrypted message:\", decrypted_message)\n",
        "        elif choice == '3':\n",
        "            print(\"Exiting the program.\")\n",
        "            break\n",
        "        else:\n",
        "            print(\"Invalid choice. Please try again.\")\n",
        "\n",
        "if __name__ == \"__main__\":\n",
        "    main()\n"
      ]
    }
  ]
}